{
 "cells": [
  {
   "cell_type": "markdown",
   "metadata": {},
   "source": [
    "#  Policing in Schools\n",
    "Onel Abreu (oabreu);\n",
    "Alexander Roche (alexanderroche);\n",
    "Sabrina Sedovic (ssedovic)\n",
    "\n",
    "\n"
   ]
  },
  {
   "cell_type": "markdown",
   "metadata": {},
   "source": [
    "### Executive Summary"
   ]
  },
  {
   "cell_type": "markdown",
   "metadata": {},
   "source": [
    "### Background and Overview of your Solution\n",
    "What is the policy problem you are addressing and why is it important? Provide citations if relevant to support your claims of relevance (e.g. government requests for comments, white papers by policy organizations, etc.).\n",
    "What is your solution to the problem? What will you be using machine learning for?\n",
    "Who is the audience for your analysis? What kinds of actions could be taken based on\n",
    "your results, and who would be equipped to take those actions?\n",
    "\n",
    "Our project will focus on the issue of policing in schools and its impact on students' educational attainments. The school-to-prison pipeline is the notion that minority students and students from\n",
    "disadvantaged backgrounds have a far higher likelihood to be incarcerated due to harsher\n",
    "treatment at school. Policing in schools recently came back into question last summer in 2020\n",
    "during the Black Lives Matter Movement, though it has been a point of contention for the last\n",
    "couple of decades. CPS originally introduced police officers in school in 1991 under Mayor\n",
    "Richard Daley, and while there have been numerous literature and reports that discovered that\n",
    "policing in schools disproportionately affects students of color, such as Carla Shedd’s Unequal\n",
    "City or Policing Chicago Public Schools: A Gateway to the School-to-Prison Pipeline by\n",
    "Mariame Kaba and Frank Edwards, 55 out of 93 of CPS high schools still hire police officers.\n",
    "During the vote last summer, even though most of those who testified supported the removal of\n",
    "the police officers, the Chicago Board of Education still voted to keep police in schools (Karp).\n",
    "The main reason the Board chose to keep police in schools was due to concern on student safety,\n",
    "though it should be noted 17 local school councils (out of 72) chose to no longer staff police\n",
    "officers and Mayor Lori Lightfoot looked to shrink the cost of the CPD and CPS contract. Our\n",
    "main target for the report would be the Board members of the CBE, Mayor Lightfoot and CPS\n",
    "CEO Janice Jackson, as both Lightfoot and Jackson have strongly supported school policing in\n",
    "the past and had a large influence over the results of the recent vote (Pathieu). However, due to the slow process to reopen schools during the pandemic, CPS had decided for in-person learning during the 2020-21 school year, there would not be an officer presence in schools.\n",
    "\n",
    "Our focus will be to examine what are the primary influences on the school-to-prison\n",
    "pipeline, using drop-out/on-track rate as our outcome variable. As recent reforms have been\n",
    "made to policing in schools, very little can be said on how those changes have affected students\n",
    "due to most of them being enacted during the Covid pandemic and remote learning so our focus\n",
    "will remain before the pandemic. Our results could be of use for those voting on the board and\n",
    "should be taken into consideration by any local school council in regards to how to (or not to)\n",
    "maintain safety within schools. While our project will not focus on other alternatives outside of\n",
    "policing, further action could be taken to look into those alternatives, such as hiring qualified\n",
    "school counselors or improving overall community safety. To validate whether or not our results\n",
    "are relevant, we would compare our findings with more recent reports on policing in schools and\n",
    "against what reforms have been made to the school policing already to ensure that our results are\n",
    "consistent but still present new or supporting information to policymakers."
   ]
  },
  {
   "cell_type": "markdown",
   "metadata": {},
   "source": [
    "### Data\n",
    "Describe the data that you used. Be sure to specify what a row represents in your final dataset (your unit of analysis), and your outcome label (what you’re predicting). Include some descriptive statistics and/or visualizations of your data.\n",
    "\n"
   ]
  },
  {
   "cell_type": "markdown",
   "metadata": {},
   "source": [
    "### Machine Learning and Details of Solution\n",
    "What type of machine learning problem is this? Are you developing a classification or regression technique? Clearly articulate the learning that your resulting models enable. What types of models did you apply? Justify your choice of models. Your considerations could include the nature of your dataset (e.g. types and nature of features, size of the data), the requirements for model training or testing (e.g. real-time classification), or any other considerations you might have.What features did you use to train your model? Did you use feature engineering to expand your feature set? If so, please justify.\n"
   ]
  },
  {
   "cell_type": "markdown",
   "metadata": {},
   "source": [
    "### Evaluation and Results\n",
    "Describe and interpret your results. Include tables and plots where relevant to summarize your models (e.g. precision-recall curves).\n",
    "Describe and justify the evaluation metrics that you chose.\n",
    "Describe the feature importances of your best model(s)."
   ]
  },
  {
   "cell_type": "code",
   "execution_count": null,
   "metadata": {},
   "outputs": [],
   "source": []
  }
 ],
 "metadata": {
  "kernelspec": {
   "display_name": "Python 3",
   "language": "python",
   "name": "python3"
  },
  "language_info": {
   "codemirror_mode": {
    "name": "ipython",
    "version": 3
   },
   "file_extension": ".py",
   "mimetype": "text/x-python",
   "name": "python",
   "nbconvert_exporter": "python",
   "pygments_lexer": "ipython3",
   "version": "3.7.6"
  }
 },
 "nbformat": 4,
 "nbformat_minor": 4
}
